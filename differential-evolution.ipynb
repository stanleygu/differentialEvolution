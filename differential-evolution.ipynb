{
 "metadata": {
  "signature": "sha256:8812567e6518b53bc10366d0c1951e8452db9b3990f371ed3bf04622efcffdda"
 },
 "nbformat": 3,
 "nbformat_minor": 0,
 "worksheets": [
  {
   "cells": [
    {
     "cell_type": "markdown",
     "metadata": {},
     "source": [
      "# Install and import dependencies"
     ]
    },
    {
     "cell_type": "code",
     "collapsed": false,
     "input": [
      "!pip install simworker celery redis notebooktools\n",
      "import tellurium as te\n",
      "import numpy as np\n",
      "import matplotlib.pyplot as plt\n",
      "import notebooktools.notebooktools as nb\n",
      "import time\n",
      "%matplotlib inline\n",
      "%config InlineBackend.figure_format='retina'"
     ],
     "language": "python",
     "metadata": {},
     "outputs": [
      {
       "output_type": "stream",
       "stream": "stdout",
       "text": [
        "Downloading/unpacking simworker\r\n"
       ]
      },
      {
       "output_type": "stream",
       "stream": "stdout",
       "text": [
        "  Downloading simworker-0.0.5.tar.gz\r\n"
       ]
      },
      {
       "output_type": "stream",
       "stream": "stdout",
       "text": [
        "  Running setup.py (path:/home/user/.virtualenvs/localpy/build/simworker/setup.py) egg_info for package simworker\r\n"
       ]
      },
      {
       "output_type": "stream",
       "stream": "stdout",
       "text": [
        "    WARNING: '' not a valid package name; please use only.-separated package names in setup.py\r\n",
        "    WARNING: '' not a valid package name; please use only.-separated package names in setup.py\r\n",
        "    \r\n"
       ]
      },
      {
       "output_type": "stream",
       "stream": "stdout",
       "text": [
        "Downloading/unpacking celery\r\n"
       ]
      },
      {
       "output_type": "stream",
       "stream": "stdout",
       "text": [
        "  Downloading celery-3.1.13-py2.py3-none-any.whl (513kB): \r",
        "  Downloading celery-3.1.13-py2.py3-none-any.whl (513kB):   0%  4.1kB\r",
        "  Downloading celery-3.1.13-py2.py3-none-any.whl (513kB):   1%  8.2kB"
       ]
      },
      {
       "output_type": "stream",
       "stream": "stdout",
       "text": [
        "\r",
        "  Downloading celery-3.1.13-py2.py3-none-any.whl (513kB):   2%  12kB \r",
        "  Downloading celery-3.1.13-py2.py3-none-any.whl (513kB):   3%  16kB\r",
        "  Downloading celery-3.1.13-py2.py3-none-any.whl (513kB):   3%  20kB\r",
        "  Downloading celery-3.1.13-py2.py3-none-any.whl (513kB):   4%  24kB\r",
        "  Downloading celery-3.1.13-py2.py3-none-any.whl (513kB):   5%  28kB\r",
        "  Downloading celery-3.1.13-py2.py3-none-any.whl (513kB):   6%  32kB\r",
        "  Downloading celery-3.1.13-py2.py3-none-any.whl (513kB):   7%  36kB\r",
        "  Downloading celery-3.1.13-py2.py3-none-any.whl (513kB):   7%  40kB\r",
        "  Downloading celery-3.1.13-py2.py3-none-any.whl (513kB):   8%  45kB\r",
        "  Downloading celery-3.1.13-py2.py3-none-any.whl (513kB):   9%  49kB\r",
        "  Downloading celery-3.1.13-py2.py3-none-any.whl (513kB):  10%  53kB\r",
        "  Downloading celery-3.1.13-py2.py3-none-any.whl (513kB):  11%  57kB\r",
        "  Downloading celery-3.1.13-py2.py3-none-any.whl (513kB):  11%  61kB\r",
        "  Downloading celery-3.1.13-py2.py3-none-any.whl (513kB):  12%  65kB\r",
        "  Downloading celery-3.1.13-py2.py3-none-any.whl (513kB):  13%  69kB\r",
        "  Downloading celery-3.1.13-py2.py3-none-any.whl (513kB):  14%  73kB"
       ]
      },
      {
       "output_type": "stream",
       "stream": "stdout",
       "text": [
        "\r",
        "  Downloading celery-3.1.13-py2.py3-none-any.whl (513kB):  15%  77kB\r",
        "  Downloading celery-3.1.13-py2.py3-none-any.whl (513kB):  15%  81kB\r",
        "  Downloading celery-3.1.13-py2.py3-none-any.whl (513kB):  16%  86kB\r",
        "  Downloading celery-3.1.13-py2.py3-none-any.whl (513kB):  17%  90kB\r",
        "  Downloading celery-3.1.13-py2.py3-none-any.whl (513kB):  18%  94kB\r",
        "  Downloading celery-3.1.13-py2.py3-none-any.whl (513kB):  19%  98kB\r",
        "  Downloading celery-3.1.13-py2.py3-none-any.whl (513kB):  19%  102kB\r",
        "  Downloading celery-3.1.13-py2.py3-none-any.whl (513kB):  20%  106kB\r",
        "  Downloading celery-3.1.13-py2.py3-none-any.whl (513kB):  21%  110kB\r",
        "  Downloading celery-3.1.13-py2.py3-none-any.whl (513kB):  22%  114kB\r",
        "  Downloading celery-3.1.13-py2.py3-none-any.whl (513kB):  23%  118kB\r",
        "  Downloading celery-3.1.13-py2.py3-none-any.whl (513kB):  23%  122kB\r",
        "  Downloading celery-3.1.13-py2.py3-none-any.whl (513kB):  24%  126kB\r",
        "  Downloading celery-3.1.13-py2.py3-none-any.whl (513kB):  25%  131kB\r",
        "  Downloading celery-3.1.13-py2.py3-none-any.whl (513kB):  26%  135kB\r",
        "  Downloading celery-3.1.13-py2.py3-none-any.whl (513kB):  27%  139kB\r",
        "  Downloading celery-3.1.13-py2.py3-none-any.whl (513kB):  27%  143kB\r",
        "  Downloading celery-3.1.13-py2.py3-none-any.whl (513kB):  28%  147kB\r",
        "  Downloading celery-3.1.13-py2.py3-none-any.whl (513kB):  29%  151kB\r",
        "  Downloading celery-3.1.13-py2.py3-none-any.whl (513kB):  30%  155kB\r",
        "  Downloading celery-3.1.13-py2.py3-none-any.whl (513kB):  31%  159kB\r",
        "  Downloading celery-3.1.13-py2.py3-none-any.whl (513kB):  31%  163kB\r",
        "  Downloading celery-3.1.13-py2.py3-none-any.whl (513kB):  32%  167kB\r",
        "  Downloading celery-3.1.13-py2.py3-none-any.whl (513kB):  33%  172kB"
       ]
      },
      {
       "output_type": "stream",
       "stream": "stdout",
       "text": [
        "\r",
        "  Downloading celery-3.1.13-py2.py3-none-any.whl (513kB):  34%  176kB\r",
        "  Downloading celery-3.1.13-py2.py3-none-any.whl (513kB):  35%  180kB\r",
        "  Downloading celery-3.1.13-py2.py3-none-any.whl (513kB):  35%  184kB\r",
        "  Downloading celery-3.1.13-py2.py3-none-any.whl (513kB):  36%  188kB\r",
        "  Downloading celery-3.1.13-py2.py3-none-any.whl (513kB):  37%  192kB\r",
        "  Downloading celery-3.1.13-py2.py3-none-any.whl (513kB):  38%  196kB\r",
        "  Downloading celery-3.1.13-py2.py3-none-any.whl (513kB):  39%  200kB\r",
        "  Downloading celery-3.1.13-py2.py3-none-any.whl (513kB):  39%  204kB\r",
        "  Downloading celery-3.1.13-py2.py3-none-any.whl (513kB):  40%  208kB\r",
        "  Downloading celery-3.1.13-py2.py3-none-any.whl (513kB):  41%  212kB\r",
        "  Downloading celery-3.1.13-py2.py3-none-any.whl (513kB):  42%  217kB\r",
        "  Downloading celery-3.1.13-py2.py3-none-any.whl (513kB):  43%  221kB\r",
        "  Downloading celery-3.1.13-py2.py3-none-any.whl (513kB):  43%  225kB\r",
        "  Downloading celery-3.1.13-py2.py3-none-any.whl (513kB):  44%  229kB\r",
        "  Downloading celery-3.1.13-py2.py3-none-any.whl (513kB):  45%  233kB\r",
        "  Downloading celery-3.1.13-py2.py3-none-any.whl (513kB):  46%  237kB\r",
        "  Downloading celery-3.1.13-py2.py3-none-any.whl (513kB):  47%  241kB\r",
        "  Downloading celery-3.1.13-py2.py3-none-any.whl (513kB):  47%  245kB\r",
        "  Downloading celery-3.1.13-py2.py3-none-any.whl (513kB):  48%  249kB\r",
        "  Downloading celery-3.1.13-py2.py3-none-any.whl (513kB):  49%  253kB\r",
        "  Downloading celery-3.1.13-py2.py3-none-any.whl (513kB):  50%  258kB\r",
        "  Downloading celery-3.1.13-py2.py3-none-any.whl (513kB):  51%  262kB\r",
        "  Downloading celery-3.1.13-py2.py3-none-any.whl (513kB):  51%  266kB\r",
        "  Downloading celery-3.1.13-py2.py3-none-any.whl (513kB):  52%  270kB\r",
        "  Downloading celery-3.1.13-py2.py3-none-any.whl (513kB):  53%  274kB\r",
        "  Downloading celery-3.1.13-py2.py3-none-any.whl (513kB):  54%  278kB\r",
        "  Downloading celery-3.1.13-py2.py3-none-any.whl (513kB):  55%  282kB\r",
        "  Downloading celery-3.1.13-py2.py3-none-any.whl (513kB):  55%  286kB\r",
        "  Downloading celery-3.1.13-py2.py3-none-any.whl (513kB):  56%  290kB\r",
        "  Downloading celery-3.1.13-py2.py3-none-any.whl (513kB):  57%  294kB\r",
        "  Downloading celery-3.1.13-py2.py3-none-any.whl (513kB):  58%  299kB"
       ]
      },
      {
       "output_type": "stream",
       "stream": "stdout",
       "text": [
        "\r",
        "  Downloading celery-3.1.13-py2.py3-none-any.whl (513kB):  59%  303kB\r",
        "  Downloading celery-3.1.13-py2.py3-none-any.whl (513kB):  59%  307kB\r",
        "  Downloading celery-3.1.13-py2.py3-none-any.whl (513kB):  60%  311kB\r",
        "  Downloading celery-3.1.13-py2.py3-none-any.whl (513kB):  61%  315kB\r",
        "  Downloading celery-3.1.13-py2.py3-none-any.whl (513kB):  62%  319kB\r",
        "  Downloading celery-3.1.13-py2.py3-none-any.whl (513kB):  63%  323kB\r",
        "  Downloading celery-3.1.13-py2.py3-none-any.whl (513kB):  63%  327kB\r",
        "  Downloading celery-3.1.13-py2.py3-none-any.whl (513kB):  64%  331kB\r",
        "  Downloading celery-3.1.13-py2.py3-none-any.whl (513kB):  65%  335kB\r",
        "  Downloading celery-3.1.13-py2.py3-none-any.whl (513kB):  66%  339kB\r",
        "  Downloading celery-3.1.13-py2.py3-none-any.whl (513kB):  66%  344kB\r",
        "  Downloading celery-3.1.13-py2.py3-none-any.whl (513kB):  67%  348kB\r",
        "  Downloading celery-3.1.13-py2.py3-none-any.whl (513kB):  68%  352kB\r",
        "  Downloading celery-3.1.13-py2.py3-none-any.whl (513kB):  69%  356kB\r",
        "  Downloading celery-3.1.13-py2.py3-none-any.whl (513kB):  70%  360kB\r",
        "  Downloading celery-3.1.13-py2.py3-none-any.whl (513kB):  70%  364kB\r",
        "  Downloading celery-3.1.13-py2.py3-none-any.whl (513kB):  71%  368kB\r",
        "  Downloading celery-3.1.13-py2.py3-none-any.whl (513kB):  72%  372kB\r",
        "  Downloading celery-3.1.13-py2.py3-none-any.whl (513kB):  73%  376kB\r",
        "  Downloading celery-3.1.13-py2.py3-none-any.whl (513kB):  74%  380kB\r",
        "  Downloading celery-3.1.13-py2.py3-none-any.whl (513kB):  74%  385kB\r",
        "  Downloading celery-3.1.13-py2.py3-none-any.whl (513kB):  75%  389kB\r",
        "  Downloading celery-3.1.13-py2.py3-none-any.whl (513kB):  76%  393kB\r",
        "  Downloading celery-3.1.13-py2.py3-none-any.whl (513kB):  77%  397kB\r",
        "  Downloading celery-3.1.13-py2.py3-none-any.whl (513kB):  78%  401kB\r",
        "  Downloading celery-3.1.13-py2.py3-none-any.whl (513kB):  78%  405kB\r",
        "  Downloading celery-3.1.13-py2.py3-none-any.whl (513kB):  79%  409kB\r",
        "  Downloading celery-3.1.13-py2.py3-none-any.whl (513kB):  80%  413kB\r",
        "  Downloading celery-3.1.13-py2.py3-none-any.whl (513kB):  81%  417kB\r",
        "  Downloading celery-3.1.13-py2.py3-none-any.whl (513kB):  82%  421kB\r",
        "  Downloading celery-3.1.13-py2.py3-none-any.whl (513kB):  82%  425kB\r",
        "  Downloading celery-3.1.13-py2.py3-none-any.whl (513kB):  83%  430kB\r",
        "  Downloading celery-3.1.13-py2.py3-none-any.whl (513kB):  84%  434kB\r",
        "  Downloading celery-3.1.13-py2.py3-none-any.whl (513kB):  85%  438kB\r",
        "  Downloading celery-3.1.13-py2.py3-none-any.whl (513kB):  86%  442kB\r",
        "  Downloading celery-3.1.13-py2.py3-none-any.whl (513kB):  86%  446kB\r",
        "  Downloading celery-3.1.13-py2.py3-none-any.whl (513kB):  87%  450kB\r",
        "  Downloading celery-3.1.13-py2.py3-none-any.whl (513kB):  88%  454kB\r",
        "  Downloading celery-3.1.13-py2.py3-none-any.whl (513kB):  89%  458kB\r",
        "  Downloading celery-3.1.13-py2.py3-none-any.whl (513kB):  90%  462kB\r",
        "  Downloading celery-3.1.13-py2.py3-none-any.whl (513kB):  90%  466kB\r",
        "  Downloading celery-3.1.13-py2.py3-none-any.whl (513kB):  91%  471kB\r",
        "  Downloading celery-3.1.13-py2.py3-none-any.whl (513kB):  92%  475kB\r",
        "  Downloading celery-3.1.13-py2.py3-none-any.whl (513kB):  93%  479kB\r",
        "  Downloading celery-3.1.13-py2.py3-none-any.whl (513kB):  94%  483kB\r",
        "  Downloading celery-3.1.13-py2.py3-none-any.whl (513kB):  94%  487kB\r",
        "  Downloading celery-3.1.13-py2.py3-none-any.whl (513kB):  95%  491kB\r",
        "  Downloading celery-3.1.13-py2.py3-none-any.whl (513kB):  96%  495kB\r",
        "  Downloading celery-3.1.13-py2.py3-none-any.whl (513kB):  97%  499kB\r",
        "  Downloading celery-3.1.13-py2.py3-none-any.whl (513kB):  98%  503kB\r",
        "  Downloading celery-3.1.13-py2.py3-none-any.whl (513kB):  98%  507kB\r",
        "  Downloading celery-3.1.13-py2.py3-none-any.whl (513kB):  99%  512kB\r",
        "  Downloading celery-3.1.13-py2.py3-none-any.whl (513kB): 100%  513kB\r",
        "  Downloading celery-3.1.13-py2.py3-none-any.whl (513kB):            \r",
        "  Downloading celery-3.1.13-py2.py3-none-any.whl (513kB): 513kB downloaded\r\n"
       ]
      },
      {
       "output_type": "stream",
       "stream": "stdout",
       "text": [
        "Downloading/unpacking redis\r\n"
       ]
      },
      {
       "output_type": "stream",
       "stream": "stdout",
       "text": [
        "  Downloading redis-2.10.3.tar.gz (86kB): \r",
        "  Downloading redis-2.10.3.tar.gz (86kB):   4%  4.1kB\r",
        "  Downloading redis-2.10.3.tar.gz (86kB):   9%  8.2kB\r",
        "  Downloading redis-2.10.3.tar.gz (86kB):  14%  12kB \r",
        "  Downloading redis-2.10.3.tar.gz (86kB):  18%  16kB\r",
        "  Downloading redis-2.10.3.tar.gz (86kB):  23%  20kB\r",
        "  Downloading redis-2.10.3.tar.gz (86kB):  28%  24kB\r",
        "  Downloading redis-2.10.3.tar.gz (86kB):  33%  28kB\r",
        "  Downloading redis-2.10.3.tar.gz (86kB):  37%  32kB\r",
        "  Downloading redis-2.10.3.tar.gz (86kB):  42%  36kB\r",
        "  Downloading redis-2.10.3.tar.gz (86kB):  47%  40kB\r",
        "  Downloading redis-2.10.3.tar.gz (86kB):  52%  45kB\r",
        "  Downloading redis-2.10.3.tar.gz (86kB):  56%  49kB\r",
        "  Downloading redis-2.10.3.tar.gz (86kB):  61%  53kB\r",
        "  Downloading redis-2.10.3.tar.gz (86kB):  66%  57kB\r",
        "  Downloading redis-2.10.3.tar.gz (86kB):  71%  61kB\r",
        "  Downloading redis-2.10.3.tar.gz (86kB):  75%  65kB\r",
        "  Downloading redis-2.10.3.tar.gz (86kB):  80%  69kB\r",
        "  Downloading redis-2.10.3.tar.gz (86kB):  85%  73kB\r",
        "  Downloading redis-2.10.3.tar.gz (86kB):  89%  77kB"
       ]
      },
      {
       "output_type": "stream",
       "stream": "stdout",
       "text": [
        "\r",
        "  Downloading redis-2.10.3.tar.gz (86kB):  94%  81kB"
       ]
      },
      {
       "output_type": "stream",
       "stream": "stdout",
       "text": [
        "\r",
        "  Downloading redis-2.10.3.tar.gz (86kB):  99%  86kB\r",
        "  Downloading redis-2.10.3.tar.gz (86kB): 100%  86kB\r",
        "  Downloading redis-2.10.3.tar.gz (86kB):           \r",
        "  Downloading redis-2.10.3.tar.gz (86kB): 86kB downloaded\r\n"
       ]
      },
      {
       "output_type": "stream",
       "stream": "stdout",
       "text": [
        "  Running setup.py (path:/home/user/.virtualenvs/localpy/build/redis/setup.py) egg_info for package redis\r\n"
       ]
      },
      {
       "output_type": "stream",
       "stream": "stdout",
       "text": [
        "    \r\n"
       ]
      },
      {
       "output_type": "stream",
       "stream": "stdout",
       "text": [
        "    warning: no previously-included files found matching '__pycache__'\r\n",
        "    warning: no previously-included files matching '*.pyc' found under directory 'tests'\r\n"
       ]
      },
      {
       "output_type": "stream",
       "stream": "stdout",
       "text": [
        "Downloading/unpacking notebooktools\r\n"
       ]
      },
      {
       "output_type": "stream",
       "stream": "stdout",
       "text": [
        "  Downloading notebooktools-0.0.5.tar.gz\r\n",
        "  Running setup.py (path:/home/user/.virtualenvs/localpy/build/notebooktools/setup.py) egg_info for package notebooktools\r\n"
       ]
      },
      {
       "output_type": "stream",
       "stream": "stdout",
       "text": [
        "    \r\n"
       ]
      },
      {
       "output_type": "stream",
       "stream": "stdout",
       "text": [
        "Downloading/unpacking billiard>=3.3.0.18,<3.4 (from celery)\r\n"
       ]
      },
      {
       "output_type": "stream",
       "stream": "stdout",
       "text": [
        "  Downloading billiard-3.3.0.18.tar.gz (150kB): \r",
        "  Downloading billiard-3.3.0.18.tar.gz (150kB):   2%  4.1kB\r",
        "  Downloading billiard-3.3.0.18.tar.gz (150kB):   5%  8.2kB\r",
        "  Downloading billiard-3.3.0.18.tar.gz (150kB):   8%  12kB \r",
        "  Downloading billiard-3.3.0.18.tar.gz (150kB):  10%  16kB\r",
        "  Downloading billiard-3.3.0.18.tar.gz (150kB):  13%  20kB\r",
        "  Downloading billiard-3.3.0.18.tar.gz (150kB):  16%  24kB"
       ]
      },
      {
       "output_type": "stream",
       "stream": "stdout",
       "text": [
        "\r",
        "  Downloading billiard-3.3.0.18.tar.gz (150kB):  19%  28kB\r",
        "  Downloading billiard-3.3.0.18.tar.gz (150kB):  21%  32kB\r",
        "  Downloading billiard-3.3.0.18.tar.gz (150kB):  24%  36kB\r",
        "  Downloading billiard-3.3.0.18.tar.gz (150kB):  27%  40kB\r",
        "  Downloading billiard-3.3.0.18.tar.gz (150kB):  29%  45kB\r",
        "  Downloading billiard-3.3.0.18.tar.gz (150kB):  32%  49kB\r",
        "  Downloading billiard-3.3.0.18.tar.gz (150kB):  35%  53kB\r",
        "  Downloading billiard-3.3.0.18.tar.gz (150kB):  38%  57kB\r",
        "  Downloading billiard-3.3.0.18.tar.gz (150kB):  40%  61kB\r",
        "  Downloading billiard-3.3.0.18.tar.gz (150kB):  43%  65kB\r",
        "  Downloading billiard-3.3.0.18.tar.gz (150kB):  46%  69kB\r",
        "  Downloading billiard-3.3.0.18.tar.gz (150kB):  48%  73kB\r",
        "  Downloading billiard-3.3.0.18.tar.gz (150kB):  51%  77kB\r",
        "  Downloading billiard-3.3.0.18.tar.gz (150kB):  54%  81kB\r",
        "  Downloading billiard-3.3.0.18.tar.gz (150kB):  57%  86kB"
       ]
      },
      {
       "output_type": "stream",
       "stream": "stdout",
       "text": [
        "\r",
        "  Downloading billiard-3.3.0.18.tar.gz (150kB):  59%  90kB\r",
        "  Downloading billiard-3.3.0.18.tar.gz (150kB):  62%  94kB\r",
        "  Downloading billiard-3.3.0.18.tar.gz (150kB):  65%  98kB\r",
        "  Downloading billiard-3.3.0.18.tar.gz (150kB):  67%  102kB\r",
        "  Downloading billiard-3.3.0.18.tar.gz (150kB):  70%  106kB\r",
        "  Downloading billiard-3.3.0.18.tar.gz (150kB):  73%  110kB\r",
        "  Downloading billiard-3.3.0.18.tar.gz (150kB):  76%  114kB\r",
        "  Downloading billiard-3.3.0.18.tar.gz (150kB):  78%  118kB\r",
        "  Downloading billiard-3.3.0.18.tar.gz (150kB):  81%  122kB\r",
        "  Downloading billiard-3.3.0.18.tar.gz (150kB):  84%  126kB\r",
        "  Downloading billiard-3.3.0.18.tar.gz (150kB):  87%  131kB\r",
        "  Downloading billiard-3.3.0.18.tar.gz (150kB):  89%  135kB\r",
        "  Downloading billiard-3.3.0.18.tar.gz (150kB):  92%  139kB\r",
        "  Downloading billiard-3.3.0.18.tar.gz (150kB):  95%  143kB\r",
        "  Downloading billiard-3.3.0.18.tar.gz (150kB):  97%  147kB\r",
        "  Downloading billiard-3.3.0.18.tar.gz (150kB): 100%  150kB\r",
        "  Downloading billiard-3.3.0.18.tar.gz (150kB):            \r",
        "  Downloading billiard-3.3.0.18.tar.gz (150kB): 150kB downloaded\r\n"
       ]
      },
      {
       "output_type": "stream",
       "stream": "stdout",
       "text": [
        "  Running setup.py (path:/home/user/.virtualenvs/localpy/build/billiard/setup.py) egg_info for package billiard\r\n"
       ]
      },
      {
       "output_type": "stream",
       "stream": "stdout",
       "text": [
        "    \r\n"
       ]
      },
      {
       "output_type": "stream",
       "stream": "stdout",
       "text": [
        "    warning: no files found matching '*.py' under directory 'Lib'\r\n"
       ]
      },
      {
       "output_type": "stream",
       "stream": "stdout",
       "text": [
        "Downloading/unpacking kombu>=3.0.21,<3.1 (from celery)\r\n"
       ]
      },
      {
       "output_type": "stream",
       "stream": "stdout",
       "text": [
        "  Downloading kombu-3.0.21-py2.py3-none-any.whl (207kB): \r",
        "  Downloading kombu-3.0.21-py2.py3-none-any.whl (207kB):   1%  4.1kB\r",
        "  Downloading kombu-3.0.21-py2.py3-none-any.whl (207kB):   3%  8.2kB\r",
        "  Downloading kombu-3.0.21-py2.py3-none-any.whl (207kB):   5%  12kB \r",
        "  Downloading kombu-3.0.21-py2.py3-none-any.whl (207kB):   7%  16kB\r",
        "  Downloading kombu-3.0.21-py2.py3-none-any.whl (207kB):   9%  20kB\r",
        "  Downloading kombu-3.0.21-py2.py3-none-any.whl (207kB):  11%  24kB\r",
        "  Downloading kombu-3.0.21-py2.py3-none-any.whl (207kB):  13%  28kB\r",
        "  Downloading kombu-3.0.21-py2.py3-none-any.whl (207kB):  15%  32kB\r",
        "  Downloading kombu-3.0.21-py2.py3-none-any.whl (207kB):  17%  36kB\r",
        "  Downloading kombu-3.0.21-py2.py3-none-any.whl (207kB):  19%  40kB\r",
        "  Downloading kombu-3.0.21-py2.py3-none-any.whl (207kB):  21%  45kB\r",
        "  Downloading kombu-3.0.21-py2.py3-none-any.whl (207kB):  23%  49kB\r",
        "  Downloading kombu-3.0.21-py2.py3-none-any.whl (207kB):  25%  53kB\r",
        "  Downloading kombu-3.0.21-py2.py3-none-any.whl (207kB):  27%  57kB\r",
        "  Downloading kombu-3.0.21-py2.py3-none-any.whl (207kB):  29%  61kB\r",
        "  Downloading kombu-3.0.21-py2.py3-none-any.whl (207kB):  31%  65kB\r",
        "  Downloading kombu-3.0.21-py2.py3-none-any.whl (207kB):  33%  69kB\r",
        "  Downloading kombu-3.0.21-py2.py3-none-any.whl (207kB):  35%  73kB\r",
        "  Downloading kombu-3.0.21-py2.py3-none-any.whl (207kB):  37%  77kB\r",
        "  Downloading kombu-3.0.21-py2.py3-none-any.whl (207kB):  39%  81kB\r",
        "  Downloading kombu-3.0.21-py2.py3-none-any.whl (207kB):  41%  86kB\r",
        "  Downloading kombu-3.0.21-py2.py3-none-any.whl (207kB):  43%  90kB\r",
        "  Downloading kombu-3.0.21-py2.py3-none-any.whl (207kB):  45%  94kB\r",
        "  Downloading kombu-3.0.21-py2.py3-none-any.whl (207kB):  47%  98kB\r",
        "  Downloading kombu-3.0.21-py2.py3-none-any.whl (207kB):  49%  102kB\r",
        "  Downloading kombu-3.0.21-py2.py3-none-any.whl (207kB):  51%  106kB\r",
        "  Downloading kombu-3.0.21-py2.py3-none-any.whl (207kB):  53%  110kB\r",
        "  Downloading kombu-3.0.21-py2.py3-none-any.whl (207kB):  55%  114kB\r",
        "  Downloading kombu-3.0.21-py2.py3-none-any.whl (207kB):  57%  118kB\r",
        "  Downloading kombu-3.0.21-py2.py3-none-any.whl (207kB):  59%  122kB\r",
        "  Downloading kombu-3.0.21-py2.py3-none-any.whl (207kB):  61%  126kB\r",
        "  Downloading kombu-3.0.21-py2.py3-none-any.whl (207kB):  63%  131kB\r",
        "  Downloading kombu-3.0.21-py2.py3-none-any.whl (207kB):  65%  135kB\r",
        "  Downloading kombu-3.0.21-py2.py3-none-any.whl (207kB):  67%  139kB\r",
        "  Downloading kombu-3.0.21-py2.py3-none-any.whl (207kB):  69%  143kB\r",
        "  Downloading kombu-3.0.21-py2.py3-none-any.whl (207kB):  71%  147kB\r",
        "  Downloading kombu-3.0.21-py2.py3-none-any.whl (207kB):  73%  151kB\r",
        "  Downloading kombu-3.0.21-py2.py3-none-any.whl (207kB):  75%  155kB"
       ]
      },
      {
       "output_type": "stream",
       "stream": "stdout",
       "text": [
        "\r",
        "  Downloading kombu-3.0.21-py2.py3-none-any.whl (207kB):  77%  159kB\r",
        "  Downloading kombu-3.0.21-py2.py3-none-any.whl (207kB):  78%  163kB\r",
        "  Downloading kombu-3.0.21-py2.py3-none-any.whl (207kB):  80%  167kB\r",
        "  Downloading kombu-3.0.21-py2.py3-none-any.whl (207kB):  82%  172kB\r",
        "  Downloading kombu-3.0.21-py2.py3-none-any.whl (207kB):  84%  176kB\r",
        "  Downloading kombu-3.0.21-py2.py3-none-any.whl (207kB):  86%  180kB\r",
        "  Downloading kombu-3.0.21-py2.py3-none-any.whl (207kB):  88%  184kB\r",
        "  Downloading kombu-3.0.21-py2.py3-none-any.whl (207kB):  90%  188kB\r",
        "  Downloading kombu-3.0.21-py2.py3-none-any.whl (207kB):  92%  192kB\r",
        "  Downloading kombu-3.0.21-py2.py3-none-any.whl (207kB):  94%  196kB\r",
        "  Downloading kombu-3.0.21-py2.py3-none-any.whl (207kB):  96%  200kB\r",
        "  Downloading kombu-3.0.21-py2.py3-none-any.whl (207kB):  98%  204kB\r",
        "  Downloading kombu-3.0.21-py2.py3-none-any.whl (207kB): 100%  207kB\r",
        "  Downloading kombu-3.0.21-py2.py3-none-any.whl (207kB):            \r",
        "  Downloading kombu-3.0.21-py2.py3-none-any.whl (207kB): 207kB downloaded\r\n",
        "Requirement already satisfied (use --upgrade to upgrade): pytz>dev in /usr/lib/python2.7/dist-packages (from celery)\r\n"
       ]
      },
      {
       "output_type": "stream",
       "stream": "stdout",
       "text": [
        "Downloading/unpacking amqp>=1.4.5,<2.0 (from kombu>=3.0.21,<3.1->celery)\r\n"
       ]
      },
      {
       "output_type": "stream",
       "stream": "stdout",
       "text": [
        "  Downloading amqp-1.4.6-py2-none-any.whl (49kB): \r",
        "  Downloading amqp-1.4.6-py2-none-any.whl (49kB):   8%  4.1kB\r",
        "  Downloading amqp-1.4.6-py2-none-any.whl (49kB):  16%  8.2kB\r",
        "  Downloading amqp-1.4.6-py2-none-any.whl (49kB):  24%  12kB \r",
        "  Downloading amqp-1.4.6-py2-none-any.whl (49kB):  32%  16kB\r",
        "  Downloading amqp-1.4.6-py2-none-any.whl (49kB):  41%  20kB\r",
        "  Downloading amqp-1.4.6-py2-none-any.whl (49kB):  49%  24kB\r",
        "  Downloading amqp-1.4.6-py2-none-any.whl (49kB):  57%  28kB\r",
        "  Downloading amqp-1.4.6-py2-none-any.whl (49kB):  65%  32kB\r",
        "  Downloading amqp-1.4.6-py2-none-any.whl (49kB):  74%  36kB\r",
        "  Downloading amqp-1.4.6-py2-none-any.whl (49kB):  82%  40kB\r",
        "  Downloading amqp-1.4.6-py2-none-any.whl (49kB):  90%  45kB\r",
        "  Downloading amqp-1.4.6-py2-none-any.whl (49kB):  98%  49kB\r",
        "  Downloading amqp-1.4.6-py2-none-any.whl (49kB): 100%  49kB\r",
        "  Downloading amqp-1.4.6-py2-none-any.whl (49kB):           \r",
        "  Downloading amqp-1.4.6-py2-none-any.whl (49kB): 49kB downloaded\r\n"
       ]
      },
      {
       "output_type": "stream",
       "stream": "stdout",
       "text": [
        "Downloading/unpacking anyjson>=0.3.3 (from kombu>=3.0.21,<3.1->celery)\r\n"
       ]
      },
      {
       "output_type": "stream",
       "stream": "stdout",
       "text": [
        "  Downloading anyjson-0.3.3.tar.gz\r\n",
        "  Running setup.py (path:/home/user/.virtualenvs/localpy/build/anyjson/setup.py) egg_info for package anyjson\r\n"
       ]
      },
      {
       "output_type": "stream",
       "stream": "stdout",
       "text": [
        "    \r\n"
       ]
      },
      {
       "output_type": "stream",
       "stream": "stdout",
       "text": [
        "Installing collected packages: simworker, celery, redis, notebooktools, billiard, kombu, amqp, anyjson\r\n",
        "  Running setup.py install for simworker\r\n"
       ]
      },
      {
       "output_type": "stream",
       "stream": "stdout",
       "text": [
        "    WARNING: '' not a valid package name; please use only.-separated package names in setup.py\r\n",
        "    WARNING: '' not a valid package name; please use only.-separated package names in setup.py\r\n"
       ]
      },
      {
       "output_type": "stream",
       "stream": "stdout",
       "text": [
        "    \r\n"
       ]
      },
      {
       "output_type": "stream",
       "stream": "stdout",
       "text": [
        "  Running setup.py install for redis\r\n"
       ]
      },
      {
       "output_type": "stream",
       "stream": "stdout",
       "text": [
        "    \r\n",
        "    warning: no previously-included files found matching '__pycache__'"
       ]
      },
      {
       "output_type": "stream",
       "stream": "stdout",
       "text": [
        "\r\n",
        "    warning: no previously-included files matching '*.pyc' found under directory 'tests'\r\n",
        "  Running setup.py install for notebooktools\r\n"
       ]
      },
      {
       "output_type": "stream",
       "stream": "stdout",
       "text": [
        "    \r\n"
       ]
      },
      {
       "output_type": "stream",
       "stream": "stdout",
       "text": [
        "  Running setup.py install for billiard\r\n"
       ]
      },
      {
       "output_type": "stream",
       "stream": "stdout",
       "text": [
        "    building '_billiard' extension\r\n",
        "    gcc -pthread -fno-strict-aliasing -DNDEBUG -g -fwrapv -O2 -Wall -Wstrict-prototypes -fPIC -DHAVE_SEM_OPEN=1 -DHAVE_FD_TRANSFER=1 -DHAVE_SEM_TIMEDWAIT=1 -IModules/_billiard -I/usr/include/python2.7 -c Modules/_billiard/multiprocessing.c -o build/temp.linux-x86_64-2.7/Modules/_billiard/multiprocessing.o\r\n"
       ]
      },
      {
       "output_type": "stream",
       "stream": "stdout",
       "text": [
        "    gcc -pthread -fno-strict-aliasing -DNDEBUG -g -fwrapv -O2 -Wall -Wstrict-prototypes -fPIC -DHAVE_SEM_OPEN=1 -DHAVE_FD_TRANSFER=1 -DHAVE_SEM_TIMEDWAIT=1 -IModules/_billiard -I/usr/include/python2.7 -c Modules/_billiard/socket_connection.c -o build/temp.linux-x86_64-2.7/Modules/_billiard/socket_connection.o"
       ]
      },
      {
       "output_type": "stream",
       "stream": "stdout",
       "text": [
        "\r\n"
       ]
      },
      {
       "output_type": "stream",
       "stream": "stdout",
       "text": [
        "    gcc -pthread -fno-strict-aliasing -DNDEBUG -g -fwrapv -O2 -Wall -Wstrict-prototypes -fPIC -DHAVE_SEM_OPEN=1 -DHAVE_FD_TRANSFER=1 -DHAVE_SEM_TIMEDWAIT=1 -IModules/_billiard -I/usr/include/python2.7 -c Modules/_billiard/semaphore.c -o build/temp.linux-x86_64-2.7/Modules/_billiard/semaphore.o\r\n"
       ]
      },
      {
       "output_type": "stream",
       "stream": "stdout",
       "text": [
        "    gcc -pthread -shared -Wl,-O1 -Wl,-Bsymbolic-functions -Wl,-Bsymbolic-functions -Wl,-z,relro build/temp.linux-x86_64-2.7/Modules/_billiard/multiprocessing.o build/temp.linux-x86_64-2.7/Modules/_billiard/socket_connection.o build/temp.linux-x86_64-2.7/Modules/_billiard/semaphore.o -lrt -o build/lib.linux-x86_64-2.7/_billiard.so\r\n"
       ]
      },
      {
       "output_type": "stream",
       "stream": "stdout",
       "text": [
        "    \r\n"
       ]
      },
      {
       "output_type": "stream",
       "stream": "stdout",
       "text": [
        "    warning: no files found matching '*.py' under directory 'Lib'\r\n"
       ]
      },
      {
       "output_type": "stream",
       "stream": "stdout",
       "text": [
        "  Running setup.py install for anyjson\r\n"
       ]
      },
      {
       "output_type": "stream",
       "stream": "stdout",
       "text": [
        "    \r\n"
       ]
      },
      {
       "output_type": "stream",
       "stream": "stdout",
       "text": [
        "Successfully installed simworker celery redis notebooktools billiard kombu amqp anyjson\r\n",
        "Cleaning up...\r\n"
       ]
      }
     ],
     "prompt_number": 1
    },
    {
     "cell_type": "markdown",
     "metadata": {},
     "source": [
      "# Define Model"
     ]
    },
    {
     "cell_type": "code",
     "collapsed": false,
     "input": [
      "model = '''\n",
      "  #Reactions:\n",
      "  J0:    -> S1;  J0_v0\n",
      "  J1: S1 ->   ;  J1_k3*S1\n",
      "  J2: S1 -> S2; (J2_k1*S1)*(1 + J2_c*S2^J2_q)\n",
      "  J3: S2 ->   ;  J3_k2*S2\n",
      "\n",
      "  # Species initializations:\n",
      "  S1 = 0\n",
      "  S2 = 1\n",
      "\n",
      "  # Variable initializations:\n",
      "  J0_v0 = 8\n",
      "  J1_k3 = 1\n",
      "  J2_k1 = 1\n",
      "  J2_c  = 1\n",
      "  J2_q  = 3\n",
      "  J3_k2 = 5\n",
      "'''\n",
      "\n",
      "rr = te.loadAntimonyModel(model)\n",
      "print rr.model.getGlobalParameterValues()\n",
      "\n",
      "# These time steps will be used as globals and reused later\n",
      "TIME_START = 0\n",
      "TIME_END = 5\n",
      "TIME_STEPS = 80\n",
      "\n",
      "data = rr.simulate(TIME_START, TIME_END, TIME_STEPS)\n",
      "c = np.copy(data) # Make a copy of the \"true\" results, will serve as basis of experimental data later\n",
      "te.plotArray(c)"
     ],
     "language": "python",
     "metadata": {},
     "outputs": [
      {
       "output_type": "stream",
       "stream": "stdout",
       "text": [
        "[ 8.  1.  1.  1.  3.  5.]\n"
       ]
      },
      {
       "metadata": {
        "png": {
         "height": 252,
         "width": 370
        }
       },
       "output_type": "display_data",
       "png": "[encoded data removed]",
       "text": [
        "<matplotlib.figure.Figure at 0x4437f50>"
       ]
      },
      {
       "metadata": {},
       "output_type": "pyout",
       "prompt_number": 2,
       "text": [
        "<module 'matplotlib.pyplot' from '/usr/lib/pymodules/python2.7/matplotlib/pyplot.pyc'>"
       ]
      }
     ],
     "prompt_number": 2
    },
    {
     "cell_type": "markdown",
     "metadata": {},
     "source": [
      "# Defining Differential algorithm"
     ]
    },
    {
     "cell_type": "code",
     "collapsed": false,
     "input": [
      "class DiffEvolution():\n",
      "    def __init__(self, rr, fitnessFcn,\n",
      "                 ASYNC=False,\n",
      "                 asyncSim=None,\n",
      "                 CROSSOVER_RATE=0.5,\n",
      "                 FITNESS_THRESHOLD=1e-6,\n",
      "                 MAX_GENS=50,\n",
      "                 MIXING_RATE=0.8,\n",
      "                 NON_NEGATIVE=True,\n",
      "                 paramRangeDict=None,\n",
      "                 POPULATION=500\n",
      "                 ):\n",
      "        self.rr = rr\n",
      "        self.paramRange = []\n",
      "        self.generations = []\n",
      "        self.fitnessFcn = fitnessFcn\n",
      "        self.asyncSim = asyncSim\n",
      "        self.ASYNC = ASYNC\n",
      "        self.BEST_FITNESS = float('inf')\n",
      "        self.MIXING_RATE = MIXING_RATE\n",
      "        self.CROSSOVER_RATE = CROSSOVER_RATE\n",
      "        self.NON_NEGATIVE = NON_NEGATIVE\n",
      "        self.POPULATION = POPULATION\n",
      "        self.MAX_GENS = MAX_GENS\n",
      "        self.FITNESS_THRESHOLD = FITNESS_THRESHOLD\n",
      "        \n",
      "        defaultMin = 0\n",
      "        defaultMax = 10\n",
      "        if paramRangeDict is None:\n",
      "            mins = [defaultMin] * len(self.rr.model.getGlobalParameterIds())\n",
      "            maxes = [defaultMax] * len(self.rr.model.getGlobalParameterIds())\n",
      "            for mn, mx in zip(mins, maxes):\n",
      "                self.paramRange.append((mn, mx))\n",
      "        else:\n",
      "            paramIds = self.rr.model.getGlobalParameterIds()\n",
      "            for paramId in paramIds:\n",
      "                if paramId in paramRangeDict:\n",
      "                    self.paramRange.append(paramRangeDict[paramId])\n",
      "                else:\n",
      "                    self.paramRange.append((defaultMin, defaultMax))\n",
      "        \n",
      "        firstGen = {\n",
      "            'members': [],\n",
      "            'fitness': []\n",
      "        }\n",
      "        asyncSims = []\n",
      "        for i in range(POPULATION):\n",
      "            newMember = self.createRandomMember()\n",
      "            firstGen['members'].append(newMember)\n",
      "            \n",
      "            if self.ASYNC:\n",
      "                sim = self.asyncSim(newMember)\n",
      "                asyncSims.append(sim)\n",
      "            else:\n",
      "                firstGen['fitness'].append(self.fitnessFcn(newMember))\n",
      "        if self.ASYNC:\n",
      "            for output in asyncSims:\n",
      "                try:\n",
      "                    firstGen['fitness'].append(self.fitnessFcn(output.get()[-1]))\n",
      "                except RuntimeError:\n",
      "                    firstGen['fitness'].append(float('inf'))\n",
      "                \n",
      "        self.generations.append(firstGen)\n",
      "        self.BEST_FITNESS = max(firstGen['fitness'])\n",
      "            \n",
      "    \n",
      "    def start(self):\n",
      "        import time\n",
      "        start = time.time()\n",
      "        while len(self.generations) < self.MAX_GENS and self.BEST_FITNESS > self.FITNESS_THRESHOLD:\n",
      "            gen = self.newGeneration()\n",
      "            self.generations.append(gen)\n",
      "\n",
      "        print 'Finished after %s seconds' % str(time.time()-start)\n",
      "        print 'with popuation of %s and %s generations' % (self.POPULATION, len(self.generations))\n",
      "        print 'Best fitness value of %s' % self.BEST_FITNESS\n",
      "        print 'Best parameters of %s' % self.getBestMember().params\n",
      "    \n",
      "    def newGeneration(self):\n",
      "        gen = {}\n",
      "        numParams = len(self.paramRange)\n",
      "        \n",
      "        newMembers = []\n",
      "        newFitnesses = []\n",
      "        \n",
      "        asyncSims = []\n",
      "        asyncTrialMembers = []\n",
      "        for i, member in enumerate(self.generations[-1]['members']):\n",
      "            # Pick two other members\n",
      "            a = self.generations[-1]['members'][np.random.randint(0, self.POPULATION)]\n",
      "            b = self.generations[-1]['members'][np.random.randint(0, self.POPULATION)]\n",
      "            # Create mutant\n",
      "            mutant = self.mutate(member, a, b)\n",
      "            # Crossover to create trial member\n",
      "            trialP = []\n",
      "            pInd = np.random.randint(0, numParams) # random index of parameter to cross over\n",
      "            for j, (mutantP, originalP) in enumerate(zip(mutant.params, member.params)):\n",
      "                r = np.random.uniform(0, 1)\n",
      "                if r < self.CROSSOVER_RATE or j == pInd:\n",
      "                    trialP.append(mutantP)\n",
      "                else:\n",
      "                    trialP.append(originalP)\n",
      "            trialMember = Member(trialP)\n",
      "            \n",
      "            if self.ASYNC:\n",
      "                # In the async case, create list of trial members and\n",
      "                # async sim jobs to feed into fitness function\n",
      "                asyncTrialMembers.append(trialMember)\n",
      "                asyncSims.append(self.asyncSim(trialMember))\n",
      "            else:\n",
      "                # Fitness function should know how to handle trialmember\n",
      "                # and run simulation\n",
      "                trialFitness = self.fitnessFcn(trialMember)\n",
      "                memberFitness = self.generations[-1]['fitness'][i]\n",
      "                # Replace member with trial member if better fitness\n",
      "                if (trialFitness < memberFitness):\n",
      "                    newMembers.append(trialMember)\n",
      "                    newFitnesses.append(trialFitness)\n",
      "                    self.updateBestFitness(trialFitness)\n",
      "                else:\n",
      "                    newMembers.append(member)\n",
      "                    newFitnesses.append(memberFitness)\n",
      "                    self.updateBestFitness(memberFitness)\n",
      "        if self.ASYNC:\n",
      "            # Async operation so still need to make members\n",
      "            for i, (sim, trialMember) in enumerate(zip(asyncSims, asyncTrialMembers)):\n",
      "                try:\n",
      "                    trialFitness = self.fitnessFcn(sim.get()[-1])\n",
      "                except RuntimeError:\n",
      "                    trialFitness = float('inf')\n",
      "                member = self.generations[-1]['members'][i]\n",
      "                memberFitness = self.generations[-1]['fitness'][i]\n",
      "                if (trialFitness < memberFitness):\n",
      "#                     print '--------'\n",
      "#                     print 'Member %s' % self.generations[-1]['members'][i].params\n",
      "#                     print 'with fitness of: %s' % memberFitness\n",
      "#                     print 'is being replaced by trial member: %s' % trialMember.params\n",
      "#                     print 'with fitness of: %s' % trialFitness\n",
      "#                     print '--------'\n",
      "                    newMembers.append(trialMember)\n",
      "                    newFitnesses.append(trialFitness)\n",
      "                    self.updateBestFitness(trialFitness)\n",
      "                else:\n",
      "                    newMembers.append(member)\n",
      "                    newFitnesses.append(memberFitness)\n",
      "                    self.updateBestFitness(memberFitness)\n",
      "        \n",
      "        gen['members'] = newMembers\n",
      "        gen['fitness'] = newFitnesses\n",
      "        \n",
      "        return gen\n",
      "    \n",
      "    def updateBestFitness(self, newFitness):\n",
      "        if (newFitness < self.BEST_FITNESS):\n",
      "            self.BEST_FITNESS = newFitness\n",
      "            return True\n",
      "        return False\n",
      "        \n",
      "    def mutate(self, x, a, b):\n",
      "        differential = [self.MIXING_RATE*(ai-bi) for ai, bi in zip(a.params, b.params)]\n",
      "        mutantParams = [xi + diffi for xi, diffi in zip (x.params, differential)]\n",
      "        if (self.NON_NEGATIVE):\n",
      "            npParams = np.asarray(mutantParams)\n",
      "            negativeIndicies = npParams < 0\n",
      "            npParams[negativeIndicies] = 0\n",
      "            mutantParams = npParams.tolist()\n",
      "        return Member(mutantParams)\n",
      "        \n",
      "        \n",
      "    def createRandomMember(self):\n",
      "        newParams = [np.random.uniform(self.paramRange[i][0], self.paramRange[i][1]) for i, p in enumerate(self.rr.model.getGlobalParameterValues())]\n",
      "        newMember = Member(newParams)\n",
      "        return newMember\n",
      "    \n",
      "    def plotFitnesses(self):\n",
      "        import matplotlib.pyplot as plt\n",
      "        fitnesses = [min(g['fitness']) for g in self.generations]\n",
      "        p = plt.plot(fitnesses)\n",
      "        return plt.show()\n",
      "        \n",
      "    def plotBest(self, observed=None):\n",
      "        import matplotlib.pyplot as plt\n",
      "        ind = self.generations[-1]['fitness'].index(self.BEST_FITNESS)\n",
      "        params = self.generations[-1]['members'][ind].params\n",
      "        rr.reset()\n",
      "        rr.model.setGlobalParameterValues(params)\n",
      "        sim = rr.simulate(TIME_START, TIME_END, TIME_STEPS)\n",
      "        plts = plt.plot(sim[:, 0], sim[:, 1:], linewidth=2.5)\n",
      "        if observed is not None:\n",
      "            for i, column in enumerate(observed[:,1:].T):\n",
      "                plt.scatter(observed[:,0], column, linewidth=2.5, color=plts[i].get_color())\n",
      "        return plt.show()\n",
      "\n",
      "    def getBestMember(self):\n",
      "        ind = self.generations[-1]['fitness'].index(self.BEST_FITNESS)\n",
      "        bestMember = self.generations[-1]['members'][ind]\n",
      "        return bestMember\n",
      "    \n",
      "class Member():\n",
      "    def __init__(self, params):\n",
      "        self.params = params"
     ],
     "language": "python",
     "metadata": {},
     "outputs": [],
     "prompt_number": 3
    },
    {
     "cell_type": "markdown",
     "metadata": {},
     "source": [
      "# Creating experimental data"
     ]
    },
    {
     "cell_type": "code",
     "collapsed": false,
     "input": [
      "def makeNoise(results, mean=0, std=1):\n",
      "    import numpy as np\n",
      "    dim = results.shape\n",
      "    numSpecies = dim[1] - 1\n",
      "    numPoints = dim[0]\n",
      "    noise = np.hstack([np.array([np.random.normal(mean, std, numPoints)]).T for s in range(numSpecies)])\n",
      "    return noise\n",
      "\n",
      "noise = makeNoise(c, std=0.2)\n",
      "noisyResults = np.hstack((np.array([c[:, 0]]).T, c[:, 1:] + noise))"
     ],
     "language": "python",
     "metadata": {},
     "outputs": []
    },
    {
     "cell_type": "markdown",
     "metadata": {},
     "source": [
      "# Define fitness function for synchronous differential evolution"
     ]
    },
    {
     "cell_type": "code",
     "collapsed": false,
     "input": [
      "def getFitness(member):\n",
      "    expected = noisyResults\n",
      "    rr.reset()\n",
      "    rr.model.setGlobalParameterValues(member.params)\n",
      "    \n",
      "    try:\n",
      "        obs = rr.simulate(TIME_START, TIME_END, TIME_STEPS)\n",
      "\n",
      "        sumofsquares = 0\n",
      "        for index, value in np.ndenumerate(obs):\n",
      "                expectedValue = expected[index[0], index[1]]\n",
      "                residual = (value - expectedValue)\n",
      "#                 print '-----------------'\n",
      "#                 print 'Index: %s' % (index,)\n",
      "#                 print 'Observed value: %s' % value\n",
      "#                 print 'Expected value: %s' % expectedValue\n",
      "#                 print 'Residual: %s' % residual\n",
      "                sumofsquares += residual ** 2\n",
      "    except RuntimeError:\n",
      "        sumofsquares = float('inf')\n",
      "    return sumofsquares"
     ],
     "language": "python",
     "metadata": {},
     "outputs": [],
     "prompt_number": 4
    },
    {
     "cell_type": "markdown",
     "metadata": {},
     "source": [
      "# Run and plot differential evolution run"
     ]
    },
    {
     "cell_type": "code",
     "collapsed": false,
     "input": [
      "de = DiffEvolution(rr,\n",
      "                   fitnessFcn=getFitness,\n",
      "                   POPULATION=100,\n",
      "                   MAX_GENS=100, \n",
      "                   paramRangeDict={\n",
      "                     'J0_v0': (8, 8),\n",
      "                     'J1_k3': (1, 1),\n",
      "                     #'J2_k1': (1, 1),\n",
      "                     #'J2_c': (1, 1),\n",
      "                     #'J2_q': (3, 3),\n",
      "                     'J3_k2': (5, 5)\n",
      "                   }) \n",
      "de.start()"
     ],
     "language": "python",
     "metadata": {},
     "outputs": []
    },
    {
     "cell_type": "code",
     "collapsed": false,
     "input": [
      "de.plotFitnesses()\n",
      "de.plotBest(observed=noisyResults)"
     ],
     "language": "python",
     "metadata": {},
     "outputs": [
      {
       "metadata": {
        "png": {
         "height": 252,
         "width": 373
        }
       },
       "output_type": "display_data",
       "png": "[encoded data removed]",
       "text": [
        "<matplotlib.figure.Figure at 0x4636a10>"
       ]
      },
      {
       "metadata": {},
       "output_type": "pyout",
       "prompt_number": 41,
       "text": [
        "<function matplotlib.pyplot.show>"
       ]
      },
      {
       "metadata": {
        "png": {
         "height": 252,
         "width": 378
        }
       },
       "output_type": "display_data",
       "png": "[encoded data removed]",
       "text": [
        "<matplotlib.figure.Figure at 0x4636e10>"
       ]
      }
     ],
     "prompt_number": 41
    },
    {
     "cell_type": "markdown",
     "metadata": {},
     "source": [
      "#Define an async sim and fitness function to use with cluster"
     ]
    },
    {
     "cell_type": "code",
     "collapsed": false,
     "input": [
      "def asyncSim(member):\n",
      "    import tasks\n",
      "\n",
      "    expected = noisyResults\n",
      "    sbml = rr.getSBML()\n",
      "    \n",
      "    return tasks.rrChain.delay([\n",
      "        ['load', sbml],\n",
      "        ['reset'],\n",
      "        [['model', 'setGlobalParameterValues'], member.params],\n",
      "        ['simulate', TIME_START, TIME_END, TIME_STEPS]\n",
      "    ])\n",
      "\n",
      "def getAsyncFitness(obs):\n",
      "    expected = noisyResults\n",
      "    sumofsquares = 0\n",
      "    for index, value in np.ndenumerate(obs):\n",
      "        expectedValue = expected[index[0], index[1]]\n",
      "        residual = (value - expectedValue)\n",
      "        sumofsquares += residual ** 2\n",
      "    return sumofsquares\n"
     ],
     "language": "python",
     "metadata": {},
     "outputs": [],
     "prompt_number": 5
    },
    {
     "cell_type": "markdown",
     "metadata": {},
     "source": [
      "# Run and plot cluster-based sim function"
     ]
    },
    {
     "cell_type": "code",
     "collapsed": false,
     "input": [
      "deAsync = DiffEvolution(rr,\n",
      "                   fitnessFcn=getAsyncFitness,\n",
      "                   asyncSim=asyncSim,\n",
      "                   ASYNC=True,\n",
      "                   MAX_GENS=150,\n",
      "                   POPULATION=400,\n",
      "                   paramRangeDict={\n",
      "                     #'J0_v0': (8, 8),\n",
      "                     #'J1_k3': (1, 1),\n",
      "                     #'J2_k1': (1, 1),\n",
      "                     #'J2_c': (1, 1),\n",
      "                     #'J2_q': (3, 3),\n",
      "                     #'J3_k2': (5, 5)\n",
      "                   })\n",
      "deAsync.start()\n",
      "deAsync.plotFitnesses()\n",
      "deAsync.plotBest(observed=noisyResults)\n",
      "print deAsync.getBestMember().params"
     ],
     "language": "python",
     "metadata": {},
     "outputs": []
    },
    {
     "cell_type": "code",
     "collapsed": false,
     "input": [
      "deAsync.plotFitnesses()\n",
      "deAsync.plotBest(observed=noisyResults)\n",
      "print deAsync.getBestMember().params"
     ],
     "language": "python",
     "metadata": {},
     "outputs": []
    }
   ],
   "metadata": {}
  }
 ]
}